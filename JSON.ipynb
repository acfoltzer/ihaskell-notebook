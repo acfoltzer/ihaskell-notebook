{
 "metadata": {
  "name": "JSON"
 },
 "nbformat": 3,
 "nbformat_minor": 0,
 "worksheets": [
  {
   "cells": [
    {
     "cell_type": "code",
     "collapsed": false,
     "input": [
      "%load_ext ghcimagic"
     ],
     "language": "python",
     "metadata": {},
     "outputs": [],
     "prompt_number": 2
    },
    {
     "cell_type": "code",
     "collapsed": false,
     "input": [
      "import Text.JSON"
     ],
     "language": "python",
     "metadata": {},
     "outputs": [],
     "prompt_number": 2
    },
    {
     "cell_type": "code",
     "collapsed": false,
     "input": [
      "decode \"[1, 2, 3]\" :: Result [Int]"
     ],
     "language": "python",
     "metadata": {},
     "outputs": [
      {
       "output_type": "display_data",
       "text": [
        "Ok [1,2,3]"
       ]
      }
     ],
     "prompt_number": 2
    },
    {
     "cell_type": "code",
     "collapsed": false,
     "input": [
      "let data_key_str = \"result\"\n",
      "    id_key_str = \"id\"\n",
      "    src_key_str = \"source\""
     ],
     "language": "python",
     "metadata": {},
     "outputs": [],
     "prompt_number": 2
    },
    {
     "cell_type": "code",
     "collapsed": false,
     "input": [
      "data Input =\n",
      "    Input { inputCellNo :: Int\n",
      "          , inputSource :: String\n",
      "          } deriving (Show)"
     ],
     "language": "python",
     "metadata": {},
     "outputs": [],
     "prompt_number": 2
    },
    {
     "cell_type": "code",
     "collapsed": false,
     "input": [
      "Input 4 \"hi\""
     ],
     "language": "python",
     "metadata": {},
     "outputs": [
      {
       "output_type": "display_data",
       "text": [
        "Input {inputCellNo = 4, inputSource = \"hi\"}"
       ]
      }
     ],
     "prompt_number": 2
    },
    {
     "cell_type": "code",
     "collapsed": false,
     "input": [
      "instance JSON Input where\n",
      "    -- readJSON  :: JSValue -> Result Input\n",
      "    readJSON (JSObject jso) =\n",
      "        let table = fromJSObject jso\n",
      "        in case (lookup id_key_str table, lookup src_key_str table) of\n",
      "             (Just cn, Just src) -> do\n",
      "               cId <- readJSON cn\n",
      "               code <- readJSON src\n",
      "               return Input { inputCellNo = cId\n",
      "                            , inputSource = code }\n",
      "             _                   -> Error $ show jso\n",
      "    readJSON input            = Error $ show input\n",
      "\n",
      "    -- showJSON :: Input -> JSValue\n",
      "    showJSON (Input cellNo source) = JSObject $ toJSObject [ (id_key_str, showJSON cellNo)\n",
      "                                                           , (src_key_str, showJSON source)]\n"
     ],
     "language": "python",
     "metadata": {},
     "outputs": [],
     "prompt_number": 2
    },
    {
     "cell_type": "code",
     "collapsed": false,
     "input": [
      "let inStr = encode (Input 5 \"Input {} \\\"This is a test\")"
     ],
     "language": "python",
     "metadata": {},
     "outputs": [],
     "prompt_number": 2
    },
    {
     "cell_type": "code",
     "collapsed": false,
     "input": [
      "decode inStr :: Result Input"
     ],
     "language": "python",
     "metadata": {},
     "outputs": [
      {
       "output_type": "display_data",
       "text": [
        "Ok (Input {inputCellNo = 5, inputSource = \"Input {} \\\"This is a test\"})"
       ]
      }
     ],
     "prompt_number": 2
    },
    {
     "cell_type": "code",
     "collapsed": false,
     "input": [
      "let mkInput x = Input x (\"Test \"++show x)\n",
      "    infInputs = map (encode . mkInput) [1..]\n",
      "    decodedIn = (map decode infInputs) :: [Result Input]"
     ],
     "language": "python",
     "metadata": {},
     "outputs": [],
     "prompt_number": 2
    },
    {
     "cell_type": "code",
     "collapsed": false,
     "input": [
      "take 3 decodedIn"
     ],
     "language": "python",
     "metadata": {},
     "outputs": [
      {
       "output_type": "display_data",
       "text": [
        "[Ok (Input {inputCellNo = 1, inputSource = \"Test 1\"}),Ok (Input {inputCellNo = 2, inputSource = \"Test 2\"}),Ok (Input {inputCellNo = 3, inputSource = \"Test 3\"})]"
       ]
      }
     ],
     "prompt_number": 2
    },
    {
     "cell_type": "code",
     "collapsed": false,
     "input": [
      "take 10 $ unlines $ words $ \"hello taco man\""
     ],
     "language": "python",
     "metadata": {},
     "outputs": [
      {
       "output_type": "display_data",
       "text": [
        "\"hello\\ntaco\""
       ]
      }
     ],
     "prompt_number": 2
    },
    {
     "cell_type": "code",
     "collapsed": false,
     "input": [
      "(take 2 $ decode $ unlines infInputs) :: [Result Input]"
     ],
     "language": "python",
     "metadata": {},
     "outputs": [
      {
       "output_type": "display_data",
       "text": [
        "\n",
        "<interactive>:196:11:\n",
        "    Couldn't match expected type `[Result Input]'\n",
        "                with actual type `Result a0'\n",
        "    In the second argument of `($)', namely\n",
        "      `decode $ unlines infInputs'\n",
        "    In the expression:\n",
        "        (take 2 $ decode $ unlines infInputs) :: [Result Input]\n",
        "    In an equation for `it':\n",
        "        it = (take 2 $ decode $ unlines infInputs) :: [Result Input]"
       ]
      }
     ],
     "prompt_number": 2
    },
    {
     "cell_type": "markdown",
     "metadata": {},
     "source": [
      "### Parsing JSON from Infinite Text Streams\n",
      "\n",
      "We'll need to run the JSON parser on an infinite stream of incoming text, without much in the way of \"safe\" characters to use as delemiters.  The input delemination must be legitimate JSON or we risk conflicts (or we could do something very nasty, like base-64 encode 'everything').\n",
      "\n",
      "This shows that we can decode a long string and take the first few elements.  This does not show that the string can be infinite, though."
     ]
    },
    {
     "cell_type": "code",
     "collapsed": false,
     "input": [
      "do ins <- (decode $ \"[{\\\"id\\\": 1, \\\"source\\\": \\\"test\\\"}, {\\\"id\\\": 2, \\\"source\\\": \\\"test\\\"}, {\\\"id\\\": 3, \\\"source\\\": \\\"test\\\"}]\") :: Result [Input]\n",
      "   return $ take 2 ins"
     ],
     "language": "python",
     "metadata": {},
     "outputs": [
      {
       "output_type": "display_data",
       "text": [
        "Ok [Input {inputCellNo = 1, inputSource = \"test\"},Input {inputCellNo = 2, inputSource = \"test\"}]"
       ]
      }
     ],
     "prompt_number": 2
    },
    {
     "cell_type": "code",
     "collapsed": false,
     "input": [
      "do xs <- decode \"[1,2,3,4,5,6,7,8,9,10]\" :: Result [Int]\n",
      "   return $ take 2 xs\n"
     ],
     "language": "python",
     "metadata": {},
     "outputs": [
      {
       "output_type": "display_data",
       "text": [
        "Ok [1,2]"
       ]
      }
     ],
     "prompt_number": 2
    },
    {
     "cell_type": "code",
     "collapsed": false,
     "input": [],
     "language": "python",
     "metadata": {},
     "outputs": []
    }
   ],
   "metadata": {}
  }
 ]
}
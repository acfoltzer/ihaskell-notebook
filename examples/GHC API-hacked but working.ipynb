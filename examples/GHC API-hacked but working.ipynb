{
 "metadata": {
  "name": "GHC API-hacked but working"
 },
 "nbformat": 3,
 "nbformat_minor": 0,
 "worksheets": [
  {
   "cells": [
    {
     "cell_type": "markdown",
     "metadata": {},
     "source": [
      "# GHC API explorations"
     ]
    },
    {
     "cell_type": "code",
     "collapsed": false,
     "input": [
      "%load_ext ghcimagic"
     ],
     "language": "python",
     "metadata": {},
     "outputs": [],
     "prompt_number": 2
    },
    {
     "cell_type": "code",
     "collapsed": false,
     "input": [
      "import GHC\n",
      "import GHC.Paths\n",
      "import DynFlags\n",
      "import StringBuffer\n",
      "import Data.Time.Clock\n",
      "import Debug.Trace\n",
      "import Outputable\n",
      "\n",
      "let showOut flags name = let ctx = initSDocContext flags defaultDumpStyle\n",
      "                         in runSDoc (ppr name) ctx\n",
      "    printOut flags name = print $ showOut flags name"
     ],
     "language": "python",
     "metadata": {},
     "outputs": [],
     "prompt_number": 2
    },
    {
     "cell_type": "code",
     "collapsed": false,
     "input": [
      "import Data.Time.Clock.POSIX\n",
      "let past = posixSecondsToUTCTime 900"
     ],
     "language": "python",
     "metadata": {},
     "outputs": [],
     "prompt_number": 2
    },
    {
     "cell_type": "code",
     "collapsed": false,
     "input": [
      "let mkTarget code = do now <- getCurrentTime\n",
      "                       return Target { targetId = TargetModule $ mkModuleName \"TestModule1\"\n",
      "                                     , targetAllowObjCode = False\n",
      "                                     , targetContents = Just (stringToStringBuffer code, past) \n",
      "                                     }"
     ],
     "language": "python",
     "metadata": {},
     "outputs": [],
     "prompt_number": 2
    },
    {
     "cell_type": "code",
     "collapsed": false,
     "input": [
      "testTgt <- mkTarget \"module TestModule1 (foo) where\\nimport Prelude\\nfoo x = x + x + x\""
     ],
     "language": "python",
     "metadata": {},
     "outputs": [],
     "prompt_number": 2
    },
    {
     "cell_type": "code",
     "collapsed": false,
     "input": [
      "let showFR (Found loc mod) = \"Found\"\n",
      "    showFR NoPackage {} = \"NoPackage\"\n",
      "    showFR FoundMultiple {} = \"FoundMultiple\"\n",
      "    showFR NotFound {}      = \"NotFound\"\n",
      "    printFR fr = print (showFR fr)"
     ],
     "language": "python",
     "metadata": {},
     "outputs": [],
     "prompt_number": 2
    },
    {
     "cell_type": "code",
     "collapsed": false,
     "input": [
      "import Finder\n",
      "import MonadUtils\n",
      "let eval target stmt = defaultErrorHandler defaultFatalMessager defaultFlushOut $ do\n",
      "                        runGhc (Just libdir) $ do\n",
      "                           dflags <- getSessionDynFlags \n",
      "                           setSessionDynFlags dflags { ghcLink = LinkInMemory\n",
      "                                                     , hscTarget = HscInterpreted }\n",
      "                           addTarget target\n",
      "                           sFlag <- load LoadAllTargets\n",
      "                           setContext [IIModule $ mkModuleName \"TestModule1\"]\n",
      "                           \n",
      "                           case sFlag of\n",
      "                             Failed    -> error \"Compliation Failed\"\n",
      "                             Succeeded -> runStmt stmt RunToCompletion\n",
      "                                              "
     ],
     "language": "python",
     "metadata": {},
     "outputs": [],
     "prompt_number": 2
    },
    {
     "cell_type": "code",
     "collapsed": false,
     "input": [
      "eval testTgt \"foo 4\""
     ],
     "language": "python",
     "metadata": {},
     "outputs": [
      {
       "output_type": "display_data",
       "text": [
        "12"
       ]
      }
     ],
     "prompt_number": 2
    },
    {
     "cell_type": "code",
     "collapsed": false,
     "input": [
      "then <- getCurrentTime"
     ],
     "language": "python",
     "metadata": {},
     "outputs": [
      {
       "output_type": "display_data",
       "text": [
        "\n",
        "<interactive>:1832:1: parse error on input `then'"
       ]
      }
     ],
     "prompt_number": 2
    },
    {
     "cell_type": "code",
     "collapsed": false,
     "input": [
      "let old = getCurrentTime"
     ],
     "language": "python",
     "metadata": {},
     "outputs": [],
     "prompt_number": 2
    },
    {
     "cell_type": "code",
     "collapsed": false,
     "input": [],
     "language": "python",
     "metadata": {},
     "outputs": []
    }
   ],
   "metadata": {}
  }
 ]
}
{
 "metadata": {
  "name": "JSON"
 },
 "nbformat": 3,
 "nbformat_minor": 0,
 "worksheets": [
  {
   "cells": [
    {
     "cell_type": "code",
     "collapsed": false,
     "input": [
      "%load_ext ghcimagic"
     ],
     "language": "python",
     "metadata": {},
     "outputs": [],
     "prompt_number": 2
    },
    {
     "cell_type": "code",
     "collapsed": false,
     "input": [
      "import Text.JSON\n",
      "import qualified Data.ByteString.Base64 as B64\n",
      "import qualified Data.ByteString.Char8 as C8"
     ],
     "language": "python",
     "metadata": {},
     "outputs": [],
     "prompt_number": 2
    },
    {
     "cell_type": "code",
     "collapsed": false,
     "input": [
      "let data_key_str = \"result\"\n",
      "    id_key_str = \"id\"\n",
      "    src_key_str = \"source\""
     ],
     "language": "python",
     "metadata": {},
     "outputs": [],
     "prompt_number": 2
    },
    {
     "cell_type": "code",
     "collapsed": false,
     "input": [
      "data Input =\n",
      "    Input { inputCellNo :: Int\n",
      "          , inputSource :: String\n",
      "          } deriving (Show)"
     ],
     "language": "python",
     "metadata": {},
     "outputs": [],
     "prompt_number": 2
    },
    {
     "cell_type": "code",
     "collapsed": false,
     "input": [
      "instance JSON Input where\n",
      "    -- readJSON  :: JSValue -> Result Input\n",
      "    readJSON (JSObject jso) =\n",
      "        let table = fromJSObject jso\n",
      "        in case (lookup id_key_str table, lookup src_key_str table) of\n",
      "             (Just cn, Just src) -> do\n",
      "               cId <- readJSON cn\n",
      "               code <- readJSON src\n",
      "               return Input { inputCellNo = cId\n",
      "                            , inputSource = code }\n",
      "             _                   -> Error $ show jso\n",
      "    readJSON input            = Error $ show input\n",
      "\n",
      "    -- showJSON :: Input -> JSValue\n",
      "    showJSON (Input cellNo source) = makeObj [ (id_key_str, showJSON cellNo)\n",
      "                                             , (src_key_str, showJSON source)]\n"
     ],
     "language": "python",
     "metadata": {},
     "outputs": [
      {
       "output_type": "display_data",
       "text": [
        "Loading package array-0.4.0.1 ... linking ... done.\n",
        "Loading package deepseq-1.3.0.1 ... linking ... done.\n",
        "Loading package containers-0.5.0.0 ... linking ... done.\n",
        "Loading package bytestring-0.10.0.0 ... linking ... done.\n",
        "Loading package transformers-0.3.0.0 ... linking ... done.\n",
        "Loading package mtl-2.1.2 ... linking ... done.\n",
        "Loading package text-0.11.2.3 ... linking ... done.\n",
        "Loading package parsec-3.1.3 ... linking ... done.\n",
        "Loading package pretty-1.1.1.0 ... linking ... done.\n",
        "Loading package syb-0.3.7 ... linking ... done.\n",
        "Loading package json-0.7 ... linking ... done."
       ]
      }
     ],
     "prompt_number": 2
    },
    {
     "cell_type": "code",
     "collapsed": false,
     "input": [
      "let inStr = encode (Input 5 \"Input {} This is a test\")"
     ],
     "language": "python",
     "metadata": {},
     "outputs": [],
     "prompt_number": 2
    },
    {
     "cell_type": "code",
     "collapsed": false,
     "input": [
      "inStr"
     ],
     "language": "python",
     "metadata": {},
     "outputs": [
      {
       "output_type": "display_data",
       "text": [
        "\"{\\\"id\\\":5,\\\"source\\\":\\\"Input {} This is a test\\\"}\""
       ]
      }
     ],
     "prompt_number": 2
    },
    {
     "cell_type": "code",
     "collapsed": false,
     "input": [
      "decode inStr :: Result Input"
     ],
     "language": "python",
     "metadata": {},
     "outputs": [
      {
       "output_type": "display_data",
       "text": [
        "Ok (Input {inputCellNo = 5, inputSource = \"Input {} This is a test\"})"
       ]
      }
     ],
     "prompt_number": 2
    },
    {
     "cell_type": "code",
     "collapsed": false,
     "input": [
      "C8.unpack $ B64.encode (C8.pack \"{\\\"inputCellNo\\\": 1, \\\"inputSource\\\": \\\"4 + 4\\\"}\")"
     ],
     "language": "python",
     "metadata": {},
     "outputs": [
      {
       "output_type": "display_data",
       "text": [
        "Loading package base64-bytestring-1.0.0.1 ... linking ... done.\n",
        "\"eyJpbnB1dENlbGxObyI6IDEsICJpbnB1dFNvdXJjZSI6ICI0ICsgNCJ9\""
       ]
      }
     ],
     "prompt_number": 2
    },
    {
     "cell_type": "code",
     "collapsed": false,
     "input": [
      "C8.unpack $ B64.encode (C8.pack \"{\\\"inputCellNo\\\": 1, \\\"inputSource\\\": \\\"foo x = x * x * x\\\"}\")"
     ],
     "language": "python",
     "metadata": {},
     "outputs": [
      {
       "output_type": "display_data",
       "text": [
        "\"eyJpbnB1dENlbGxObyI6IDEsICJpbnB1dFNvdXJjZSI6ICJmb28geCA9IHggKiB4ICogeCJ9\""
       ]
      }
     ],
     "prompt_number": 2
    },
    {
     "cell_type": "code",
     "collapsed": false,
     "input": [
      "C8.unpack $ B64.encode (C8.pack \"{\\\"inputCellNo\\\": 1, \\\"inputSource\\\": \\\"foo 4\\\"}\")"
     ],
     "language": "python",
     "metadata": {},
     "outputs": [
      {
       "output_type": "display_data",
       "text": [
        "\"eyJpbnB1dENlbGxObyI6IDEsICJpbnB1dFNvdXJjZSI6ICJmb28gNCJ9\""
       ]
      }
     ],
     "prompt_number": 2
    },
    {
     "cell_type": "code",
     "collapsed": false,
     "input": [
      "let str = \"Hello\"\n",
      "in showJSON str"
     ],
     "language": "python",
     "metadata": {},
     "outputs": [
      {
       "output_type": "display_data",
       "text": [
        "JSString (JSONString {fromJSString = \"Hello\"})"
       ]
      }
     ],
     "prompt_number": 1
    },
    {
     "cell_type": "code",
     "collapsed": false,
     "input": [
      "C8.unpack $ B64.encode (C8.pack \"{\\\"inputCellNo\\\": 1, \\\"inputSource\\\": \\\"4 4\\\"}\")"
     ],
     "language": "python",
     "metadata": {},
     "outputs": [
      {
       "output_type": "display_data",
       "text": [
        "\"eyJpbnB1dENlbGxObyI6IDEsICJpbnB1dFNvdXJjZSI6ICI0IDQifQ==\""
       ]
      }
     ],
     "prompt_number": 2
    },
    {
     "cell_type": "code",
     "collapsed": false,
     "input": [],
     "language": "python",
     "metadata": {},
     "outputs": []
    }
   ],
   "metadata": {}
  }
 ]
}
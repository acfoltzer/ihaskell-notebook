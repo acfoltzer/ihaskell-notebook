{
 "metadata": {
  "name": "iHaskell Examples"
 },
 "nbformat": 3,
 "nbformat_minor": 0,
 "worksheets": [
  {
   "cells": [
    {
     "cell_type": "heading",
     "level": 1,
     "metadata": {},
     "source": [
      "It's Alive!"
     ]
    },
    {
     "cell_type": "markdown",
     "metadata": {},
     "source": [
      "The iHaskell Notebook uses an iPython 'magic' to pipe the contents of a cell directly to ghci (via ghci2py) and then just prints the results below the cell.\n",
      "\n",
      "To use it, you must first load the ghcimagic:"
     ]
    },
    {
     "cell_type": "code",
     "collapsed": false,
     "input": [
      "%load_ext ghcimagic"
     ],
     "language": "python",
     "metadata": {},
     "outputs": [],
     "prompt_number": 1
    },
    {
     "cell_type": "markdown",
     "metadata": {},
     "source": [
      "After loading the magic, you still need to specify that the cells are (individually) ghci cells, instead of python (or octave, r, etc...)"
     ]
    },
    {
     "cell_type": "code",
     "collapsed": false,
     "input": [
      "do x <- Just 5\n",
      "   y <- Just 15\n",
      "   return (x + y)"
     ],
     "language": "python",
     "metadata": {},
     "outputs": [
      {
       "output_type": "display_data",
       "text": [
        "Just 20"
       ]
      }
     ],
     "prompt_number": 1
    },
    {
     "cell_type": "markdown",
     "metadata": {},
     "source": [
      "Since it's connected to ghci (for now), you can't define functions as you would in a normal Haskell file, but let still works just fine."
     ]
    },
    {
     "cell_type": "code",
     "collapsed": false,
     "input": [
      "let fib x | x <= 1 = 1\n",
      "          | otherwise = fib (x - 1) + fib (x - 2)"
     ],
     "language": "python",
     "metadata": {},
     "outputs": [],
     "prompt_number": 6
    },
    {
     "cell_type": "markdown",
     "metadata": {},
     "source": [
      "Syntax highlighting is currently a bit random (Python?)"
     ]
    },
    {
     "cell_type": "code",
     "collapsed": false,
     "input": [
      "take 10 $ map fib [1..]"
     ],
     "language": "python",
     "metadata": {},
     "outputs": [
      {
       "output_type": "display_data",
       "text": [
        "[1,2,3,5,8,13,21,34,55,89]"
       ]
      }
     ],
     "prompt_number": 7
    },
    {
     "cell_type": "markdown",
     "metadata": {},
     "source": [
      "The magic can be run verbosely with -v:"
     ]
    },
    {
     "cell_type": "code",
     "collapsed": false,
     "input": [
      "fib 4"
     ],
     "language": "python",
     "metadata": {},
     "outputs": [
      {
       "output_type": "stream",
       "stream": "stdout",
       "text": [
        "---sending command---\n",
        "\n",
        "fib 4\n",
        "\n",
        "---------------------\n",
        "raw result: '0d0d0a1b5b3f316c1b3e1b5b3f31681b3d5072656c7564657c203a7d0d0d0a1b5b3f316c1b3e350d0a'"
       ]
      },
      {
       "output_type": "stream",
       "stream": "stdout",
       "text": [
        "\n",
        "raw result: '\r",
        "\r\n",
        "\u001b[?1l\u001b>\u001b[?1h\u001b=Prelude| :}\r",
        "\r\n",
        "\u001b[?1l\u001b>5\r\n",
        "'\n",
        "raw result: '0a1b5b3f316c1b3e35'\n",
        "raw result: '\n",
        "\u001b[?1l\u001b>5'\n",
        "received result: '5'\n",
        "received result: '35'\n"
       ]
      },
      {
       "output_type": "display_data",
       "text": [
        "5"
       ]
      }
     ],
     "prompt_number": 8
    },
    {
     "cell_type": "code",
     "collapsed": false,
     "input": [
      "import Data.List"
     ],
     "language": "python",
     "metadata": {},
     "outputs": [],
     "prompt_number": 22
    },
    {
     "cell_type": "code",
     "collapsed": false,
     "input": [
      "import Data.Tree"
     ],
     "language": "python",
     "metadata": {},
     "outputs": [],
     "prompt_number": 26
    },
    {
     "cell_type": "code",
     "collapsed": false,
     "input": [
      "let buildTree (x:xs) = let (lesser, greater) = partition (\\v -> v < x) xs\n",
      "                       in Node x $ map buildTree $ filter (/=[]) [lesser, greater]\n",
      "    buildTree []     = undefined"
     ],
     "language": "python",
     "metadata": {},
     "outputs": [],
     "prompt_number": 36
    },
    {
     "cell_type": "code",
     "collapsed": false,
     "input": [
      "let tree = buildTree \"silly long string of things that may be sorted\""
     ],
     "language": "python",
     "metadata": {},
     "outputs": [],
     "prompt_number": 40
    },
    {
     "cell_type": "code",
     "collapsed": false,
     "input": [
      "import Text.Show.Pretty"
     ],
     "language": "python",
     "metadata": {},
     "outputs": [],
     "prompt_number": 43
    },
    {
     "cell_type": "code",
     "collapsed": false,
     "input": [
      "putStrLn $ ppShow tree"
     ],
     "language": "python",
     "metadata": {},
     "outputs": [
      {
       "output_type": "display_data",
       "text": [
        "Node\n",
        "  { rootLabel = 's'\n",
        "  , subForest = [ Node\n",
        "                    { rootLabel = 'i'\n",
        "                    , subForest = [ Node\n",
        "                                      { rootLabel = ' '\n",
        "                                      , subForest = [ Node\n",
        "                                                        { rootLabel = 'g'\n",
        "                                                        , subForest = [ Node\n",
        "                                                                          { rootLabel = ' '\n",
        "                                                                          , subForest = [ Node\n",
        "                                                                                            { rootLabel = ' '\n",
        "                                                                                            , subForest = [ Node\n",
        "                                                                                                              { rootLabel = 'f'\n",
        "                                                                                                              , subForest = [ Node\n",
        "                                                                                                                                { rootLabel = ' '\n",
        "                                                                                                                                , subForest = [ Node\n",
        "                                                                                                                                                  { rootLabel = ' '\n",
        "                                                                                                                                                  , subForest = [ Node\n",
        "                                                                                                                                                                    { rootLabel = 'a'\n",
        "                                                                                                                                                                    , subForest = [ Node\n",
        "                                                                                                                                                                                      { rootLabel = ' '\n",
        "                                                                                                                                                                                      , subForest = [ Node\n",
        "                                                                                                                                                                                                        { rootLabel = ' '\n",
        "                                                                                                                                                                                                        , subForest = [ Node\n",
        "                                                                                                                                                                                                                          { rootLabel = ' '\n",
        "                                                                                                                                                                                                                          , subForest = []\n",
        "                                                                                                                                                                                                                          }\n",
        "                                                                                                                                                                                                                      ]\n",
        "                                                                                                                                                                                                        }\n",
        "                                                                                                                                                                                                    ]\n",
        "                                                                                                                                                                                      }\n",
        "                                                                                                                                                                                  , Node\n",
        "                                                                                                                                                                                      { rootLabel = 'a'\n",
        "                                                                                                                                                                                      , subForest = [ Node\n",
        "                                                                                                                                                                                                        { rootLabel = 'b'\n",
        "                                                                                                                                                                                                        , subForest = [ Node\n",
        "                                                                                                                                                                                                                          { rootLabel = 'e'\n",
        "                                                                                                                                                                                                                          , subForest = [ Node\n",
        "                                                                                                                                                                                                                                            { rootLabel = 'd'\n",
        "                                                                                                                                                                                                                                            , subForest = []\n",
        "                                                                                                                                                                                                                                            }\n",
        "                                                                                                                                                                                                                                        , Node\n",
        "                                                                                                                                                                                                                                            { rootLabel = 'e'\n",
        "                                                                                                                                                                                                                                            , subForest = []\n",
        "                                                                                                                                                                                                                                            }\n",
        "                                                                                                                                                                                                                                        ]\n",
        "                                                                                                                                                                                                                          }\n",
        "                                                                                                                                                                                                                      ]\n",
        "                                                                                                                                                                                                        }\n",
        "                                                                                                                                                                                                    ]\n",
        "                                                                                                                                                                                      }\n",
        "                                                                                                                                                                                  ]\n",
        "                                                                                                                                                                    }\n",
        "                                                                                                                                                                ]\n",
        "                                                                                                                                                  }\n",
        "                                                                                                                                              ]\n",
        "                                                                                                                                }\n",
        "                                                                                                                            ]\n",
        "                                                                                                              }\n",
        "                                                                                                          ]\n",
        "                                                                                            }\n",
        "                                                                                        ]\n",
        "                                                                          }\n",
        "                                                                      , Node\n",
        "                                                                          { rootLabel = 'g'\n",
        "                                                                          , subForest = [ Node\n",
        "                                                                                            { rootLabel = 'h'\n",
        "                                                                                            , subForest = [ Node\n",
        "                                                                                                              { rootLabel = 'g'\n",
        "                                                                                                              , subForest = []\n",
        "                                                                                                              }\n",
        "                                                                                                          , Node\n",
        "                                                                                                              { rootLabel = 'h'\n",
        "                                                                                                              , subForest = []\n",
        "                                                                                                              }\n",
        "                                                                                                          ]\n",
        "                                                                                            }\n",
        "                                                                                        ]\n",
        "                                                                          }\n",
        "                                                                      ]\n",
        "                                                        }\n",
        "                                                    ]\n",
        "                                      }\n",
        "                                  , Node\n",
        "                                      { rootLabel = 'l'\n",
        "                                      , subForest = [ Node\n",
        "                                                        { rootLabel = 'i'\n",
        "                                                        , subForest = [ Node\n",
        "                                                                          { rootLabel = 'i'\n",
        "                                                                          , subForest = []\n",
        "                                                                          }\n",
        "                                                                      ]\n",
        "                                                        }\n",
        "                                                    , Node\n",
        "                                                        { rootLabel = 'l'\n",
        "                                                        , subForest = [ Node\n",
        "                                                                          { rootLabel = 'l'\n",
        "                                                                          , subForest = [ Node\n",
        "                                                                                            { rootLabel = 'o'\n",
        "                                                                                            , subForest = [ Node\n",
        "                                                                                                              { rootLabel = 'n'\n",
        "                                                                                                              , subForest = [ Node\n",
        "                                                                                                                                { rootLabel = 'm'\n",
        "                                                                                                                                , subForest = []\n",
        "                                                                                                                                }\n",
        "                                                                                                                            , Node\n",
        "                                                                                                                                { rootLabel = 'n'\n",
        "                                                                                                                                , subForest = [ Node\n",
        "                                                                                                                                                  { rootLabel = 'n'\n",
        "                                                                                                                                                  , subForest = []\n",
        "                                                                                                                                                  }\n",
        "                                                                                                                                              ]\n",
        "                                                                                                                                }\n",
        "                                                                                                                            ]\n",
        "                                                                                                              }\n",
        "                                                                                                          , Node\n",
        "                                                                                                              { rootLabel = 'r'\n",
        "                                                                                                              , subForest = [ Node\n",
        "                                                                                                                                { rootLabel = 'o'\n",
        "                                                                                                                                , subForest = [ Node\n",
        "                                                                                                                                                  { rootLabel = 'o'\n",
        "                                                                                                                                                  , subForest = []\n",
        "                                                                                                                                                  }\n",
        "                                                                                                                                              ]\n",
        "                                                                                                                                }\n",
        "                                                                                                                            , Node\n",
        "                                                                                                                                { rootLabel = 'r'\n",
        "                                                                                                                                , subForest = []\n",
        "                                                                                                                                }\n",
        "                                                                                                                            ]\n",
        "                                                                                                              }\n",
        "                                                                                                          ]\n",
        "                                                                                            }\n",
        "                                                                                        ]\n",
        "                                                                          }\n",
        "                                                                      ]\n",
        "                                                        }\n",
        "                                                    ]\n",
        "                                      }\n",
        "                                  ]\n",
        "                    }\n",
        "                , Node\n",
        "                    { rootLabel = 'y'\n",
        "                    , subForest = [ Node\n",
        "                                      { rootLabel = 's'\n",
        "                                      , subForest = [ Node\n",
        "                                                        { rootLabel = 't'\n",
        "                                                        , subForest = [ Node\n",
        "                                                                          { rootLabel = 's'\n",
        "                                                                          , subForest = [ Node\n",
        "                                                                                            { rootLabel = 's'\n",
        "                                                                                            , subForest = []\n",
        "                                                                                            }\n",
        "                                                                                        ]\n",
        "                                                                          }\n",
        "                                                                      , Node\n",
        "                                                                          { rootLabel = 't'\n",
        "                                                                          , subForest = [ Node\n",
        "                                                                                            { rootLabel = 't'\n",
        "                                                                                            , subForest = [ Node\n",
        "                                                                                                              { rootLabel = 't'\n",
        "                                                                                                              , subForest = [ Node\n",
        "                                                                                                                                { rootLabel = 't'\n",
        "                                                                                                                                , subForest = []\n",
        "                                                                                                                                }\n",
        "                                                                                                                            ]\n",
        "                                                                                                              }\n",
        "                                                                                                          ]\n",
        "                                                                                            }\n",
        "                                                                                        ]\n",
        "                                                                          }\n",
        "                                                                      ]\n",
        "                                                        }\n",
        "                                                    ]\n",
        "                                      }\n",
        "                                  , Node\n",
        "                                      { rootLabel = 'y'\n",
        "                                      , subForest = []\n",
        "                                      }\n",
        "                                  ]\n",
        "                    }\n",
        "                ]\n",
        "  }"
       ]
      }
     ],
     "prompt_number": 48
    },
    {
     "cell_type": "code",
     "collapsed": false,
     "input": [
      "tree"
     ],
     "language": "python",
     "metadata": {},
     "outputs": [
      {
       "output_type": "display_data",
       "text": [
        "\n",
        "<interactive>:12:1: Not in scope: `tree'"
       ]
      }
     ],
     "prompt_number": 1
    },
    {
     "cell_type": "code",
     "collapsed": false,
     "input": [],
     "language": "python",
     "metadata": {},
     "outputs": []
    }
   ],
   "metadata": {}
  }
 ]
}
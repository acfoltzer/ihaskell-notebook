{
 "metadata": {
  "name": "iHaskell Examples"
 },
 "nbformat": 3,
 "nbformat_minor": 0,
 "worksheets": [
  {
   "cells": [
    {
     "cell_type": "heading",
     "level": 1,
     "metadata": {},
     "source": [
      "It's Alive!"
     ]
    },
    {
     "cell_type": "markdown",
     "metadata": {},
     "source": [
      "The iHaskell Notebook uses an iPython 'magic' to pipe the contents of a cell directly to ghci (via ghci2py) and then just prints the results below the cell.\n",
      "\n",
      "To use it, you must first load the ghcimagic:"
     ]
    },
    {
     "cell_type": "code",
     "collapsed": false,
     "input": [
      "%load_ext ghcimagic"
     ],
     "language": "python",
     "metadata": {},
     "outputs": [],
     "prompt_number": 2
    },
    {
     "cell_type": "markdown",
     "metadata": {},
     "source": [
      "After loading the magic, you still need to specify that the cells are (individually) ghci cells, instead of python (or octave, r, etc...)"
     ]
    },
    {
     "cell_type": "code",
     "collapsed": false,
     "input": [
      "%%ghci\n",
      "do x <- Just 5\n",
      "   y <- Just 15\n",
      "   return (x + y)"
     ],
     "language": "python",
     "metadata": {},
     "outputs": [
      {
       "output_type": "display_data",
       "text": [
        "Just 20"
       ]
      }
     ],
     "prompt_number": 3
    },
    {
     "cell_type": "markdown",
     "metadata": {},
     "source": [
      "Since it's connected to ghci (for now), you can't define functions as you would in a normal Haskell file, but let still works just fine."
     ]
    },
    {
     "cell_type": "code",
     "collapsed": false,
     "input": [
      "%%ghci\n",
      "let fib x | x <= 1 = 1\n",
      "          | otherwise = fib (x - 1) + fib (x - 2)"
     ],
     "language": "python",
     "metadata": {},
     "outputs": [],
     "prompt_number": 4
    },
    {
     "cell_type": "markdown",
     "metadata": {},
     "source": [
      "Syntax highlighting is currently a bit random (Python?)"
     ]
    },
    {
     "cell_type": "code",
     "collapsed": false,
     "input": [
      "%%ghci\n",
      "take 10 $ map fib [1..]"
     ],
     "language": "python",
     "metadata": {},
     "outputs": [
      {
       "output_type": "display_data",
       "text": [
        "[1,2,3,5,8,13,21,34,55,89]"
       ]
      }
     ],
     "prompt_number": 5
    },
    {
     "cell_type": "markdown",
     "metadata": {},
     "source": [
      "The magic can be run verbosely with -v:"
     ]
    },
    {
     "cell_type": "code",
     "collapsed": false,
     "input": [
      "%%ghci -v\n",
      "fib 4"
     ],
     "language": "python",
     "metadata": {},
     "outputs": [
      {
       "output_type": "stream",
       "stream": "stdout",
       "text": [
        "---sending command---\n",
        "\n",
        "fib 4\n",
        "\n",
        "---------------------\n",
        "raw result: '0d0d0a1b5b3f316c1b3e1b5b3f31681b3d5072656c7564657c203a7d0d0d0a1b5b3f316c1b3e350d0a'"
       ]
      },
      {
       "output_type": "stream",
       "stream": "stdout",
       "text": [
        "\n",
        "raw result: '\r",
        "\r\n",
        "\u001b[?1l\u001b>\u001b[?1h\u001b=Prelude| :}\r",
        "\r\n",
        "\u001b[?1l\u001b>5\r\n",
        "'\n",
        "raw result: '0a1b5b3f316c1b3e35'\n",
        "raw result: '\n",
        "\u001b[?1l\u001b>5'\n",
        "received result: '5'\n",
        "received result: '35'\n"
       ]
      },
      {
       "output_type": "display_data",
       "text": [
        "5"
       ]
      }
     ],
     "prompt_number": 6
    },
    {
     "cell_type": "code",
     "collapsed": false,
     "input": [],
     "language": "python",
     "metadata": {},
     "outputs": []
    }
   ],
   "metadata": {}
  }
 ]
}
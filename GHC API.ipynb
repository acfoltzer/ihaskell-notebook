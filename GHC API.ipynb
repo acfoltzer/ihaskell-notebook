{
 "metadata": {
  "name": "GHC API"
 },
 "nbformat": 3,
 "nbformat_minor": 0,
 "worksheets": [
  {
   "cells": [
    {
     "cell_type": "markdown",
     "metadata": {},
     "source": [
      "# GHC API explorations"
     ]
    },
    {
     "cell_type": "code",
     "collapsed": false,
     "input": [
      "%load_ext ghcimagic"
     ],
     "language": "python",
     "metadata": {},
     "outputs": [],
     "prompt_number": 1
    },
    {
     "cell_type": "code",
     "collapsed": false,
     "input": [
      "import GHC\n",
      "import GHC.Paths\n",
      "import DynFlags\n",
      "import StringBuffer\n",
      "import Data.Time.Clock"
     ],
     "language": "python",
     "metadata": {},
     "outputs": [
      {
       "output_type": "display_data",
       "text": [
        "\n",
        "\n",
        "\n",
        "\n",
        "\n"
       ]
      }
     ],
     "prompt_number": 1
    },
    {
     "cell_type": "code",
     "collapsed": false,
     "input": [
      "let mkTarget code = do now <- getCurrentTime\n",
      "                       return Target { targetId = TargetModule $ mkModuleName \"TestModule\"\n",
      "                                     , targetAllowObjCode = True\n",
      "                                     , targetContents = Just (stringToStringBuffer code, now) \n",
      "                                     }"
     ],
     "language": "python",
     "metadata": {},
     "outputs": [],
     "prompt_number": 1
    },
    {
     "cell_type": "code",
     "collapsed": false,
     "input": [
      "let eval stmt = defaultErrorHandler defaultFatalMessager defaultFlushOut $ do\n",
      "                      runGhc (Just libdir) $ do\n",
      "                         dflags <- getSessionDynFlags\n",
      "                         setSessionDynFlags dflags\n",
      "                         t <- guessTarget \"Prelude\" Nothing\n",
      "                         addTarget t\n",
      "                         load LoadAllTargets\n",
      "                         res <- runStmt stmt GHC.RunToCompletion\n",
      "                         return res"
     ],
     "language": "python",
     "metadata": {},
     "outputs": [
      {
       "output_type": "display_data",
       "text": [
        "Loading package array-0.4.0.1 ... linking ... done.\n",
        "Loading package deepseq-1.3.0.1 ... linking ... done.\n",
        "Loading package containers-0.5.0.0 ... linking ... done.\n",
        "Loading package filepath-1.3.0.1 ... linking ... done.\n",
        "Loading package old-locale-1.0.0.5 ... linking ... done.\n",
        "Loading package time-1.4.0.1 ... linking ... done.\n",
        "Loading package bytestring-0.10.0.0 ... linking ... done.\n",
        "Loading package unix-2.6.0.0 ... linking ... done.\n",
        "Loading package directory-1.2.0.0 ... linking ... done.\n",
        "Loading package old-time-1.1.0.1 ... linking ... done.\n",
        "Loading package pretty-1.1.1.0 ... linking ... done.\n",
        "Loading package process-1.1.0.2 ... linking ... done.\n",
        "Loading package Cabal-1.16.0 ... linking ... done.\n",
        "Loading package binary-0.5.1.1 ... linking ... done.\n",
        "Loading package bin-package-db-0.0.0.0 ... linking ... done.\n",
        "Loading package hoopl-3.9.0.0 ... linking ... done.\n",
        "Loading package hpc-0.6.0.0 ... linking ... done.\n",
        "Loading package template-haskell ... linking ... done.\n",
        "Loading package ghc-7.6.1 ... linking ... done.\n",
        "Loading package ghc-paths-0.1.0.9 ... linking ... done."
       ]
      }
     ],
     "prompt_number": 1
    },
    {
     "cell_type": "code",
     "collapsed": false,
     "input": [
      "eval \"4 + 4\""
     ],
     "language": "python",
     "metadata": {},
     "outputs": [
      {
       "output_type": "display_data",
       "text": [
        "<interactive>: panic! (the 'impossible' happened)\n",
        "  (GHC version 7.6.1 for x86_64-unknown-linux):\n",
        "\tmodule `Prelude' is a package module\n",
        "\n",
        "\n",
        "Please report this as a GHC bug:  http://www.haskell.org/ghc/reportabug\n",
        "\n",
        "*** Exception: ExitFailure 1"
       ]
      }
     ],
     "prompt_number": 1
    },
    {
     "cell_type": "code",
     "collapsed": false,
     "input": [
      "eval \"let x = 5 in x\""
     ],
     "language": "python",
     "metadata": {},
     "outputs": [
      {
       "output_type": "display_data",
       "text": [
        "5"
       ]
      }
     ],
     "prompt_number": 1
    },
    {
     "cell_type": "code",
     "collapsed": false,
     "input": [
      "eval \"import Prelude\""
     ],
     "language": "python",
     "metadata": {},
     "outputs": [
      {
       "output_type": "display_data",
       "text": [
        "<interactive>: panic! (the 'impossible' happened)\n",
        "  (GHC version 7.6.1 for x86_64-unknown-linux):\n",
        "\tparse error on input `import'\n",
        "\n",
        "\n",
        "Please report this as a GHC bug:  http://www.haskell.org/ghc/reportabug\n",
        "\n",
        "*** Exception: ExitFailure 1"
       ]
      }
     ],
     "prompt_number": 1
    },
    {
     "cell_type": "code",
     "collapsed": false,
     "input": [],
     "language": "python",
     "metadata": {},
     "outputs": []
    }
   ],
   "metadata": {}
  }
 ]
}